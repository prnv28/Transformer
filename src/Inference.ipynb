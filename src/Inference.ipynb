{
 "cells": [
  {
   "cell_type": "code",
   "execution_count": 1,
   "id": "d30d3144",
   "metadata": {},
   "outputs": [
    {
     "name": "stderr",
     "output_type": "stream",
     "text": [
      "/home/ubuntu/Pranav/Transformer/venv/lib/python3.10/site-packages/tqdm/auto.py:21: TqdmWarning: IProgress not found. Please update jupyter and ipywidgets. See https://ipywidgets.readthedocs.io/en/stable/user_install.html\n",
      "  from .autonotebook import tqdm as notebook_tqdm\n"
     ]
    },
    {
     "name": "stdout",
     "output_type": "stream",
     "text": [
      "Using device: cuda\n",
      "Loading model from opus_books_weights/tmodel_29.pt\n",
      "    SOURCE: --f=/run/user/1000/jupyter/runtime/kernel-v340013e07797c743a9ac9cd53f92c7a2988dd236f.json\n",
      " PREDICTED: पिछला / कोई S /     को  को  को  को  को  को  को  को  को  को  को  को  को  को  को  को  को  को  को  .  "
     ]
    }
   ],
   "source": [
    "from pathlib import Path\n",
    "import torch\n",
    "import torch.nn as nn\n",
    "from config import get_config, latest_weights_file_path\n",
    "from train import get_model, get_ds, run_validation\n",
    "from translate import translate"
   ]
  },
  {
   "cell_type": "code",
   "execution_count": 2,
   "id": "8ebe3d80",
   "metadata": {},
   "outputs": [
    {
     "name": "stdout",
     "output_type": "stream",
     "text": [
      "Using device: cuda\n"
     ]
    },
    {
     "name": "stderr",
     "output_type": "stream",
     "text": [
      "Filtering dataset to match model's max_seq_length: 100%|██████████| 90000/90000 [00:09<00:00, 9938.21it/s] \n"
     ]
    },
    {
     "name": "stdout",
     "output_type": "stream",
     "text": [
      "Dataset length : 90000\n"
     ]
    },
    {
     "name": "stderr",
     "output_type": "stream",
     "text": [
      "Filtering dataset to match model's max_seq_length: 100%|██████████| 10000/10000 [00:00<00:00, 10086.67it/s]\n"
     ]
    },
    {
     "name": "stdout",
     "output_type": "stream",
     "text": [
      "Dataset length : 10000\n"
     ]
    },
    {
     "data": {
      "text/plain": [
       "<All keys matched successfully>"
      ]
     },
     "execution_count": 2,
     "metadata": {},
     "output_type": "execute_result"
    }
   ],
   "source": [
    "# Define the device\n",
    "device = torch.device(\"cuda\" if torch.cuda.is_available() else \"cpu\")\n",
    "print(\"Using device:\", device)\n",
    "config = get_config()\n",
    "train_dataloader, val_dataloader, tokenizer_src, tokenizer_tgt = get_ds(config)\n",
    "model = get_model(config, tokenizer_src.get_vocab_size(), tokenizer_tgt.get_vocab_size()).to(device)\n",
    "\n",
    "# Load the pretrained weights\n",
    "model_filename = config['model_filename']\n",
    "state = torch.load(model_filename)\n",
    "model.load_state_dict(state['model_state_dict'])"
   ]
  },
  {
   "cell_type": "code",
   "execution_count": 3,
   "id": "5c355eb4",
   "metadata": {},
   "outputs": [
    {
     "name": "stderr",
     "output_type": "stream",
     "text": [
      "stty: 'standard input': Inappropriate ioctl for device\n"
     ]
    },
    {
     "name": "stdout",
     "output_type": "stream",
     "text": [
      "--------------------------------------------------------------------------------\n",
      "    SOURCE: List of custom headers and whether they are enabled.\n",
      "    TARGET: मनपसंद शीर्षिका की सूची और क्या वे सक्रिय हैं. \n",
      " PREDICTED: मनपसंद शीर्षिका की सूची और क्या वे सक्रिय हैं .\n",
      "--------------------------------------------------------------------------------\n",
      "    SOURCE: Current buffer\n",
      "    TARGET: मौजूदा बफर\n",
      " PREDICTED: \n",
      "--------------------------------------------------------------------------------\n",
      "    SOURCE: _ Edit Bookmarks\n",
      "    TARGET: पसंद का सम्पादन करें (_ E) \n",
      " PREDICTED: आवरण बनाएँ ( _ C )\n",
      "--------------------------------------------------------------------------------\n",
      "    SOURCE: Stop Debugger\n",
      "    TARGET: डिबगर रोकें\n",
      " PREDICTED: प्रोग्राम रोकें\n",
      "--------------------------------------------------------------------------------\n",
      "    SOURCE: Width of the message - list pane\n",
      "    TARGET: संदेश-सूची पट्टी की चौड़ाई\n",
      " PREDICTED: संदेश - सूची पट्टी की चौड़ाई\n",
      "--------------------------------------------------------------------------------\n",
      "    SOURCE: Display bookmarks help\n",
      "    TARGET: पसंद मदद दिखाएँ\n",
      " PREDICTED: पसंद मदद दिखाएँ\n",
      "--------------------------------------------------------------------------------\n",
      "    SOURCE: You may not create two accounts with the same name.\n",
      "    TARGET: आप समान नाम के साथ दो खाता बना नहीं सकते. \n",
      " PREDICTED: आप समान नाम के साथ दो खाता बना नहीं सकते .\n",
      "--------------------------------------------------------------------------------\n",
      "    SOURCE: Whether or not to animate card moves.\n",
      "    TARGET: कार्ड चालों में एनीमेशन उपयोग करें या नहीं. \n",
      " PREDICTED: कार्ड चालों में एनीमेशन उपयोग करें या नहीं .\n",
      "--------------------------------------------------------------------------------\n",
      "    SOURCE: BCC\n",
      "    TARGET: गुमनाम पता.: \n",
      " PREDICTED: \n",
      "--------------------------------------------------------------------------------\n",
      "    SOURCE: Top Up\n",
      "    TARGET: टॉप अप\n",
      " PREDICTED: सीधा ऊपर\n",
      "--------------------------------------------------------------------------------\n"
     ]
    }
   ],
   "source": [
    "run_validation(model, val_dataloader, tokenizer_src, tokenizer_tgt, config['seq_len'], device, lambda msg: print(msg), 0, None, num_examples=10)"
   ]
  },
  {
   "cell_type": "code",
   "execution_count": 7,
   "id": "fbd10b3e",
   "metadata": {},
   "outputs": [
    {
     "name": "stdout",
     "output_type": "stream",
     "text": [
      "Using device: cuda\n",
      "Loading model from opus_books_weights/tmodel_29.pt\n",
      "    SOURCE: Why do I need to translate this?\n",
      " PREDICTED: इस एक ही युक्ति को इस शीर्षक को  को जवाब भेजें ?  "
     ]
    }
   ],
   "source": [
    "\n",
    "t = translate(\"Why do I need to translate this?\")"
   ]
  },
  {
   "cell_type": "code",
   "execution_count": 8,
   "id": "9128f862",
   "metadata": {},
   "outputs": [
    {
     "name": "stdout",
     "output_type": "stream",
     "text": [
      "Using device: cuda\n"
     ]
    },
    {
     "name": "stdout",
     "output_type": "stream",
     "text": [
      "Loading model from opus_books_weights/tmodel_29.pt\n",
      "    SOURCE: I love you!\n",
      " PREDICTED: आपको एवींस सुनिश्चित I _ b !  "
     ]
    }
   ],
   "source": [
    "t = translate(\"I love you!\")"
   ]
  },
  {
   "cell_type": "code",
   "execution_count": null,
   "id": "0d0c0854",
   "metadata": {},
   "outputs": [],
   "source": []
  }
 ],
 "metadata": {
  "kernelspec": {
   "display_name": "venv",
   "language": "python",
   "name": "python3"
  },
  "language_info": {
   "codemirror_mode": {
    "name": "ipython",
    "version": 3
   },
   "file_extension": ".py",
   "mimetype": "text/x-python",
   "name": "python",
   "nbconvert_exporter": "python",
   "pygments_lexer": "ipython3",
   "version": "3.10.17"
  }
 },
 "nbformat": 4,
 "nbformat_minor": 5
}
